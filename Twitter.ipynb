{
 "cells": [
  {
   "cell_type": "markdown",
   "id": "f602d6ad",
   "metadata": {},
   "source": [
    "# Working with Twitter data\n",
    "\n",
    "This notebook can be downloaded via [https://edu.nl/83a7b](https://edu.nl/83a7b)\n",
    "\n",
    "\n",
    "## Getting keys and tokens"
   ]
  },
  {
   "cell_type": "markdown",
   "id": "1a988756",
   "metadata": {},
   "source": [
    "1. If you don’t have a Twitter account yet, sign up at https://twitter.com/ \n",
    "\n",
    "2. If you do have a Twitter account, you should be able to access the Twitter developer portal at https://developer.twitter.com/. \n",
    "\n",
    "3. Create a new App. \n",
    "    - Under “Projects & Apps” > “Overview”, click on “Create App”. \n",
    "    - Enter a name for your app. Note that the name of this app must be unique. \n",
    "        \n",
    "4. If you managed to create an App, you should be able to find your credentials in the project folder created for this new App, under “Keys and Tokens”. To work with the Twitter API, you need four values:  \n",
    "    - API Key \n",
    "    - API Secret \n",
    "    - Access Token \n",
    "    - Access Secret\n",
    "    \n",
    "    \n",
    "5. Note that these keys and tokens will only be shown once, immediately after you have created them. Make sure that you copy these values directly. It is useful toi make a Python file on your computer, named ‘credentials.py’ in which you store these values, as follows\n",
    "\n",
    "    ```\n",
    "    #Twitter API credentials\n",
    "    consumer_key = 'xxx'\n",
    "    consumer_secret = 'xxx'\n",
    "    access_key = 'xxx\n",
    "    access_secret = 'xxx'\n",
    "    ```\n",
    "\n",
    "If, for some reason, you are unable to find the keys and tokens again, you can always regerate these values in the Twitter Development Portal.   \n"
   ]
  },
  {
   "cell_type": "markdown",
   "id": "4dfd4093",
   "metadata": {},
   "source": [
    "## Twitter API V1.1"
   ]
  },
  {
   "cell_type": "markdown",
   "id": "32566318",
   "metadata": {},
   "source": [
    "If you have obtained credentials (keys and tokens) using the steps that have been discussed above, this should give you access to the Twitter API V1.1. This basic version of the API is useful for getting started, and for testing certain solutions. Using the v1.1. API, you can download tweets, you can post new tweets, and you can request user information. There are a number of limitations, however. You can only download tweets that have been posted within the last 7 days, for example. \n",
    "\n",
    "There is currently a new W2 Twitter API. If you have access to the V1.1 API, you can [easily migrate to this new version](https://developer.twitter.com/en/docs/twitter-api/migrate/overview). The V2 API offers a number of [new possibilities](https://developer.twitter.com/en/docs/twitter-api/migrate/whats-new), but there are still some limitations with respect to the number of tweets you can download. If you still need more options, you can apply for a premium, and enterprise or an academic account at Twitter. \n",
    "\n",
    "## Tweepy\n",
    "\n",
    "There are several Python packages that let you work with the Twitter API. Examples include `Twython` and `Tweepy`. This notebook explains the use of tweepy. The package can be installed first. "
   ]
  },
  {
   "cell_type": "code",
   "execution_count": null,
   "id": "003297b5",
   "metadata": {},
   "outputs": [],
   "source": [
    "!pip install -U tweepy"
   ]
  },
  {
   "cell_type": "markdown",
   "id": "843bae67",
   "metadata": {},
   "source": [
    "After a successful installation, you should be able to import the package. "
   ]
  },
  {
   "cell_type": "code",
   "execution_count": 1,
   "id": "2451ae6b",
   "metadata": {},
   "outputs": [],
   "source": [
    "# import module\n",
    "import tweepy"
   ]
  },
  {
   "cell_type": "markdown",
   "id": "08be4680",
   "metadata": {},
   "source": [
    "If you want to see an overview of all the functions that have been defined in the `tweepy` package, you can consult [the documentation](https://docs.tweepy.org/en/stable/client.html). \n",
    "\n",
    "## Authentication\n",
    "\n",
    "The process of getting authenticated is can be somewhat challenging, but `Tweepy` fortunately makes this process much easier. In short, you need to instantiate an `OAuthHandler` object using your keys and tokens. \n",
    "\n",
    "If you have saved these values in a file named 'credentials.py', as was recommended above, you should be able to import these values using the code below."
   ]
  },
  {
   "cell_type": "code",
   "execution_count": null,
   "id": "ac1e044e",
   "metadata": {},
   "outputs": [],
   "source": [
    "from credentials import *\n",
    "\n",
    "print( consumer_key )"
   ]
  },
  {
   "cell_type": "markdown",
   "id": "d8d9deb4",
   "metadata": {},
   "source": [
    "With the relevant values available in your code, you can authenticate youself using the `OAuthHandler` object. "
   ]
  },
  {
   "cell_type": "code",
   "execution_count": null,
   "id": "4fa52822",
   "metadata": {},
   "outputs": [],
   "source": [
    "# auth = tweepy.OAuthHandler(consumer_key, consumer_secret)\n",
    "# auth.set_access_token(access_key, access_secret)\n",
    "# api = tweepy.API(auth)"
   ]
  },
  {
   "cell_type": "code",
   "execution_count": 2,
   "id": "97fc995e",
   "metadata": {},
   "outputs": [],
   "source": [
    "auth = tweepy.OAuth2BearerHandler(\"\")\n",
    "api = tweepy.API(auth)"
   ]
  },
  {
   "cell_type": "markdown",
   "id": "b3acc36d",
   "metadata": {},
   "source": [
    "The API() method in turn creates an `tweepy.api.API` object, which you can use to communicate with the Twitter API."
   ]
  },
  {
   "cell_type": "code",
   "execution_count": 3,
   "id": "6f966b0d",
   "metadata": {},
   "outputs": [
    {
     "name": "stdout",
     "output_type": "stream",
     "text": [
      "<class 'tweepy.api.API'>\n"
     ]
    }
   ],
   "source": [
    "print(type(api))"
   ]
  },
  {
   "cell_type": "markdown",
   "id": "a4a27846",
   "metadata": {},
   "source": [
    "## Getting data about a specific user"
   ]
  },
  {
   "cell_type": "code",
   "execution_count": 4,
   "id": "442dae0a",
   "metadata": {},
   "outputs": [
    {
     "name": "stdout",
     "output_type": "stream",
     "text": [
      "<class 'tweepy.models.User'>\n"
     ]
    }
   ],
   "source": [
    "user = api.get_user(screen_name = 'UniLeidenNews')\n",
    "print(type(user))\n"
   ]
  },
  {
   "cell_type": "markdown",
   "id": "b8ace277",
   "metadata": {},
   "source": [
    "You can request values for a [wide range of attributes](https://developer.twitter.com/en/docs/twitter-api/v1/data-dictionary/object-model/user)"
   ]
  },
  {
   "cell_type": "code",
   "execution_count": 5,
   "id": "302113bd",
   "metadata": {},
   "outputs": [
    {
     "name": "stdout",
     "output_type": "stream",
     "text": [
      "UniLeidenNews\n",
      "18986\n",
      "{English, for Dutch: @UniLeiden}\r\n",
      "Leiden University is the oldest university in The Netherlands, offering bachelor's, master's and PhD programmes.\n",
      "2010-03-23 10:03:22+00:00\n"
     ]
    }
   ],
   "source": [
    "print(user.screen_name)\n",
    "print(user.followers_count)\n",
    "print(user.description)\n",
    "print(user.created_at)"
   ]
  },
  {
   "cell_type": "markdown",
   "id": "1f395e88",
   "metadata": {},
   "source": [
    "## Displaying tweets from your own timeline"
   ]
  },
  {
   "cell_type": "markdown",
   "id": "1eba06a7",
   "metadata": {},
   "source": [
    "Using the `home_timeline()` method, you can request the 20 most recent items from your own timeline. "
   ]
  },
  {
   "cell_type": "code",
   "execution_count": null,
   "id": "1f2626c3",
   "metadata": {},
   "outputs": [],
   "source": [
    "recent_tweets = api.home_timeline()\n",
    "print(len(recent_tweets))"
   ]
  },
  {
   "cell_type": "markdown",
   "id": "30345be9",
   "metadata": {},
   "source": [
    "The tweets that are returned are of the type [`tweepy.models.Status`](https://developer.twitter.com/en/docs/twitter-api/v1/data-dictionary/object-model/tweet). You can convert the JSON data associated with these tweets into a Python dictionary using the `_json` property. "
   ]
  },
  {
   "cell_type": "code",
   "execution_count": null,
   "id": "855db625",
   "metadata": {},
   "outputs": [],
   "source": [
    "for tweet in my_timeline:\n",
    "    tweet_data = tweet._json\n",
    "    print( tweet_data['user']['name'] , tweet_data['created_at'] )"
   ]
  },
  {
   "cell_type": "markdown",
   "id": "5f2777a3",
   "metadata": {},
   "source": [
    "The following properties are available for each of these tweets: \n",
    "\n",
    "```\n",
    "\"created_at\" (<class 'str'>)\n",
    "\"id\" (<class 'int'>)\n",
    "\"id_str\" (<class 'str'>)\n",
    "\"full_text\" (<class 'str'>)\n",
    "\"truncated\" (<class 'bool'>)\n",
    "\"display_text_range\" (<class 'list'>)\n",
    "\"entities\" (<class 'dict'>)\n",
    "\"metadata\" (<class 'dict'>)\n",
    "\"source\" (<class 'str'>)\n",
    "\"in_reply_to_status_id\" (<class 'NoneType'>)\n",
    "\"in_reply_to_status_id_str\" (<class 'NoneType'>)\n",
    "\"in_reply_to_user_id\" (<class 'NoneType'>)\n",
    "\"in_reply_to_user_id_str\" (<class 'NoneType'>)\n",
    "\"in_reply_to_screen_name\" (<class 'NoneType'>)\n",
    "\"user\" (<class 'dict'>)\n",
    "\"geo\" (<class 'NoneType'>)\n",
    "\"coordinates\" (<class 'NoneType'>)\n",
    "\"place\" (<class 'NoneType'>)\n",
    "\"contributors\" (<class 'NoneType'>)\n",
    "\"retweeted_status\" (<class 'dict'>)\n",
    "\"is_quote_status\" (<class 'bool'>)\n",
    "\"retweet_count\" (<class 'int'>)\n",
    "\"favorite_count\" (<class 'int'>)\n",
    "\"favorited\" (<class 'bool'>)\n",
    "\"retweeted\" (<class 'bool'>)\n",
    "\"lang\" (<class 'str'>)\n",
    "```\n",
    "\n",
    "As you can see, some of these items are dictionaries in themselves. \"entities\", for example, is a dictionary withe the following items. \n",
    "\n",
    "```\n",
    "\"hashtags\" (<class 'list'>)\n",
    "\"symbols\" (<class 'list'>)\n",
    "\"user_mentions\" (<class 'list'>)\n",
    "\"urls\" (<class 'list'>)\n",
    "```\n",
    "\n",
    "The same goes for \"metadata\". This dictionary has the following items. \n",
    "\n",
    "```\n",
    "\"iso_language_code\" (<class 'str'>)\n",
    "\"result_type\" (<class 'str'>)\n",
    "```"
   ]
  },
  {
   "cell_type": "markdown",
   "id": "a54b4aae",
   "metadata": {},
   "source": [
    "It can be useful to create a separe function which specifies the propertioes to be shown for each of the tweets. This function selects specific options form the long list that was given above.  "
   ]
  },
  {
   "cell_type": "code",
   "execution_count": null,
   "id": "1f56bb8b",
   "metadata": {},
   "outputs": [],
   "source": [
    "def display_tweet(status):\n",
    "    return_value = f'{status[\"id\"]}'\n",
    "    return_value += f'\\t{status[\"text\"]}'\n",
    "    return_value += f'\\t{status[\"created_at\"]}'\n",
    "    return_value += f'\\t{status[\"user\"][\"screen_name\"]}'\n",
    "    return return_value + '\\n'\n",
    "    \n"
   ]
  },
  {
   "cell_type": "markdown",
   "id": "76f5e48d",
   "metadata": {},
   "source": [
    "This function can be used as follows:"
   ]
  },
  {
   "cell_type": "code",
   "execution_count": null,
   "id": "51be0295",
   "metadata": {},
   "outputs": [],
   "source": [
    "for tweet in my_timeline:\n",
    "    tweet_data = tweet._json\n",
    "    print( display_tweet(tweet_data) )"
   ]
  },
  {
   "cell_type": "markdown",
   "id": "0a62cfe3",
   "metadata": {},
   "source": [
    "## Getting tweets containing a search term"
   ]
  },
  {
   "cell_type": "markdown",
   "id": "c77393dd",
   "metadata": {},
   "source": [
    "Using the `search_tweets()` method, you can search for tweets containing a search term, posted during the last 7 days. "
   ]
  },
  {
   "cell_type": "markdown",
   "id": "7cbd0c35",
   "metadata": {},
   "source": [
    "The Twitter API V1.1 has [a limitation of 3000 tweets per minute](https://developer.twitter.com/en/docs/twitter-api/rate-limits). It you exceed this number, the API will return a 429 error response. \n",
    "\n",
    "The method can be used with the following parameters:\n",
    "\n",
    "- **q**: a search query string, 0f 500 characters maximum. \n",
    "- **lang**: an ISO 639-1 code of the langauge of the tweets.\n",
    "- **result_type**: The Twitter V1.1 search service does not make all Tweets available. The API only returns a sample. This parameter specifies the nature of this sample. 'recent' returns the most result results, and 'popular' returns the most popular tweets. \n",
    "- **count**: The number of results to retrieve.\n",
    "\n",
    "The API usually returns 200 tweets per call only. The code below also make use of a `Cursor`, which automatically requests a next sets if the number of tweets to be retrieved is higher than 200. "
   ]
  },
  {
   "cell_type": "code",
   "execution_count": null,
   "id": "52b2975b",
   "metadata": {},
   "outputs": [],
   "source": [
    "search_term = '#Ukraine'\n",
    "nr_tweets = 500\n",
    "\n",
    "list_tweets = []\n",
    "\n",
    "tweets = tweepy.Cursor(api.search_tweets , \n",
    "            q= search_term , lang=\"en\" ).items(nr_tweets)\n",
    "\n",
    "for tweet in tweets:\n",
    "    list_tweets.append(tweet)\n",
    "        \n",
    "print(len(list_tweets))\n",
    "\n"
   ]
  },
  {
   "cell_type": "markdown",
   "id": "1e5184c8",
   "metadata": {},
   "source": [
    "The tweets that were retrieved can be displayed using the `display_tweet()` function that was defined earlier. "
   ]
  },
  {
   "cell_type": "code",
   "execution_count": null,
   "id": "d8c893d0",
   "metadata": {},
   "outputs": [],
   "source": [
    "for tweet in list_tweets:\n",
    "    tweet_data = tweet._json\n",
    "    print( display_tweet(tweet_data) )"
   ]
  },
  {
   "cell_type": "markdown",
   "id": "847cde2b",
   "metadata": {},
   "source": [
    "## Getting tweets from a specific user\n"
   ]
  },
  {
   "cell_type": "markdown",
   "id": "a9cb3f9d",
   "metadata": {},
   "source": [
    "`user_timeline()` returns a collection of the most recent tweets posted by the user specified via the `screen_name` parameter. The method only returns the 3200 most recent tweets. The `count` parameters indicates the number of tweets to be downloaded. The `max_id` parameter can be used to specify that you only want tweets whose ID is lowed than the one you mentioned in this parameter.  \n",
    "\n",
    "The code below tries to download as many tweets as possible. "
   ]
  },
  {
   "cell_type": "code",
   "execution_count": null,
   "id": "f991d20f",
   "metadata": {},
   "outputs": [],
   "source": [
    "user_name = \"UniLeidenNews\"\n",
    "\n",
    "# list to capture all the tweets\n",
    "all_tweets = []\n",
    "\n",
    "new_tweets = api.user_timeline(screen_name = user_name)\n",
    "\n",
    "all_tweets.extend(new_tweets)\n",
    "\n",
    "# Find the ID of the oldest tweet \n",
    "oldest = all_tweets[-1].id - 1\n",
    "\n",
    "# Download more tweets, all older than 'oldest' in previous set\n",
    "\n",
    "while len(new_tweets) > 0:\n",
    "    print(f\"Getting tweets before {oldest}\")\n",
    "    new_tweets = api.user_timeline(screen_name = screen_name,count=200,max_id=oldest)\n",
    "\n",
    "    # Add these tweets to the list\n",
    "    all_tweets.extend(new_tweets)\n",
    "\n",
    "    #update the id of the oldest tweet less one\n",
    "    oldest = all_tweets[-1].id - 1\n",
    "\n",
    "    print(f\"{len(all_tweets)} tweets downloaded so far ...\")\n",
    "\n",
    "\n"
   ]
  },
  {
   "cell_type": "markdown",
   "id": "dc4eb80a",
   "metadata": {},
   "source": [
    "The code below writes the data about these tweets to a CSV file."
   ]
  },
  {
   "cell_type": "code",
   "execution_count": 60,
   "id": "186fc7fd",
   "metadata": {},
   "outputs": [],
   "source": [
    "import re\n",
    "\n",
    "#write the csv\n",
    "with open(f'{user_name}_tweets.csv', 'w') as f:\n",
    "\n",
    "    f.write(\"id,created_at,retweets,likes,text\\n\")\n",
    "    for tweet in all_tweets:\n",
    "        tweet.text = re.sub( r'\\n+' , ' ' , tweet.text )\n",
    "        tweet.text = re.sub( r',' , '' , tweet.text )\n",
    "        f.write( f'{tweet.id_str},{tweet.created_at},{tweet.retweet_count},{tweet.favorite_count},{tweet.text}\\n' )\n"
   ]
  }
 ],
 "metadata": {
  "kernelspec": {
   "display_name": "Python 3 (ipykernel)",
   "language": "python",
   "name": "python3"
  },
  "language_info": {
   "codemirror_mode": {
    "name": "ipython",
    "version": 3
   },
   "file_extension": ".py",
   "mimetype": "text/x-python",
   "name": "python",
   "nbconvert_exporter": "python",
   "pygments_lexer": "ipython3",
   "version": "3.7.9"
  }
 },
 "nbformat": 4,
 "nbformat_minor": 5
}

{
 "cells": [
  {
   "cell_type": "markdown",
   "id": "badfe0e9",
   "metadata": {},
   "source": [
    "# Download tweets"
   ]
  },
  {
   "cell_type": "code",
   "execution_count": null,
   "id": "74a80198",
   "metadata": {},
   "outputs": [],
   "source": [
    "# import module\n",
    "import tweepy\n",
    "import pandas as pd"
   ]
  },
  {
   "cell_type": "code",
   "execution_count": null,
   "id": "eae37bea",
   "metadata": {},
   "outputs": [],
   "source": [
    "from credentials import *\n",
    "auth = tweepy.OAuth2BearerHandler(bearer_token)\n",
    "api = tweepy.API(auth)"
   ]
  },
  {
   "cell_type": "code",
   "execution_count": null,
   "id": "46d88f85",
   "metadata": {},
   "outputs": [],
   "source": [
    "search_term = '#Ukraine'\n",
    "nr_tweets = 500\n",
    "\n",
    "list_tweets = []\n",
    "\n",
    "tweets = tweepy.Cursor(api.search_tweets , \n",
    "            q= search_term , lang=\"en\" ).items(nr_tweets)\n",
    "\n",
    "for tweet in tweets:\n",
    "    list_tweets.append(tweet)"
   ]
  },
  {
   "cell_type": "markdown",
   "id": "86fcd174",
   "metadata": {},
   "source": [
    "## Create TSV file with data about tweets"
   ]
  },
  {
   "cell_type": "code",
   "execution_count": null,
   "id": "0af396f4",
   "metadata": {},
   "outputs": [],
   "source": [
    "import re\n",
    "\n",
    "#write the csv\n",
    "with open(f'tweets.tsv', 'w') as f:\n",
    "    \n",
    "\n",
    "    f.write(\"id\\tcreated_at\\tretweets\\tlikes\\ttext\\tlanguage\\tuser_mentions\\n\")\n",
    "    for tweet in list_tweets:\n",
    "        users_mentions = len(tweet.entities['user_mentions']) \n",
    "        tweet.text = re.sub( r'\\n+' , ' ' , tweet.text )\n",
    "        tweet.text = re.sub( r',' , '' , tweet.text )\n",
    "        f.write( f'{tweet.id_str}\\t{tweet.created_at}\\t{tweet.retweet_count}\\t{tweet.favorite_count}\\t{tweet.text}\\t{tweet.lang}\\t{users_mentions}\\n' )"
   ]
  },
  {
   "cell_type": "markdown",
   "id": "a35a235f",
   "metadata": {},
   "source": [
    "## Create CSV file with hash tags"
   ]
  },
  {
   "cell_type": "code",
   "execution_count": null,
   "id": "07e10e66",
   "metadata": {},
   "outputs": [],
   "source": [
    "import re\n",
    "\n",
    "all_hash_tags = dict()\n",
    "all_user_mentions = dict()\n",
    "\n",
    "for tweet in list_tweets:\n",
    "    hash_tags = tweet.entities['hashtags']\n",
    "    for tag in hash_tags:\n",
    "        all_hash_tags[tag['text']] = all_hash_tags.get(tag['text'],0)+1\n",
    "    \n",
    "    users = tweet.entities['user_mentions']\n",
    "    for user in users:\n",
    "        all_user_mentions[user['screen_name']] = all_hash_tags.get(user['screen_name'],0)+1\n",
    "\n",
    "hash_tags = all_hash_tags.copy()\n",
    "        \n",
    "print(len(all_hash_tags))\n",
    "for tag in all_hash_tags:\n",
    "    if not all_hash_tags[tag] > 5:\n",
    "        del hash_tags[tag]\n",
    "\n",
    "del hash_tags['Ukraine']\n",
    "\n",
    "\n",
    "#write the csv\n",
    "with open(f'hash_tags.csv', 'w') as f:\n",
    "\n",
    "    f.write(\"hash_tag,count\\n\")\n",
    "    for tag in hash_tags:\n",
    "        f.write( f'{tag},{hash_tags[tag]}\\n' )\n"
   ]
  },
  {
   "cell_type": "markdown",
   "id": "bb0a11ab",
   "metadata": {},
   "source": [
    "## Read TSV file using Pandas\n",
    "\n",
    "The [`dt.floor()`](https://pandas.pydata.org/docs/reference/api/pandas.Series.dt.floor.html) method 'rounds off' the timestamp to the highest value below the current value. The code 'S' performs this 'flooring' action at the level of the second. You can also use [many other codes](https://pandas.pydata.org/docs/user_guide/timeseries.html#timeseries-offset-aliases). \n",
    "\n",
    "In teh code below, the result of the `groupby` mention is assigned to a `Series` named 'tps' ('tweets per second')\n"
   ]
  },
  {
   "cell_type": "code",
   "execution_count": null,
   "id": "c3c35c1d",
   "metadata": {},
   "outputs": [],
   "source": [
    "df = pd.read_csv('tweets.tsv' , sep = '\\t')\n",
    "df['datetime'] = pd.to_datetime(df['created_at']).dt.floor('S')\n",
    "\n",
    "tps = df.groupby('datetime')['id'].count().to_dict()\n"
   ]
  },
  {
   "cell_type": "markdown",
   "id": "58d5bee0",
   "metadata": {},
   "source": [
    "## Read the hash tags CSV"
   ]
  },
  {
   "cell_type": "code",
   "execution_count": null,
   "id": "06a566f4",
   "metadata": {},
   "outputs": [],
   "source": [
    "df2 = pd.read_csv('hash_tags.csv')\n",
    "df2 = df2.sort_values('count' , ascending = False)"
   ]
  },
  {
   "cell_type": "markdown",
   "id": "d0aba951",
   "metadata": {},
   "source": [
    "# Exercises\n",
    "\n",
    "## Exercise 1\n",
    "\n",
    "Create a bar chart to show the frequencies of the hash tags\n",
    "\n",
    "* Title: ‘#Ukraine’\n",
    "* X-axis label: ‘Hash tag’\n",
    "* Y-axis label: ‘Frequency’\n",
    "* Colour: ‘#a8325e’\n",
    "* Change rotation of X-axis labels with 80 degrees\n",
    "\n",
    "\n"
   ]
  },
  {
   "cell_type": "code",
   "execution_count": null,
   "id": "1acc5904",
   "metadata": {},
   "outputs": [],
   "source": []
  },
  {
   "cell_type": "markdown",
   "id": "39281a14",
   "metadata": {},
   "source": [
    "## Exercise 2\n",
    "\n",
    "Create a line chart to show the number of tweets per second (dictionary named ‘tps’)\n",
    "\n",
    "* Title: ‘#Ukraine: tweets per second’\n",
    "* X-axis label: ‘Time’\n",
    "* Y-axis: ‘Number of tweets’\n",
    "* Line style: '[solid](https://matplotlib.org/3.5.1/gallery/lines_bars_and_markers/linestyles.html)'\n",
    "* Colour: ‘#930d08’\n",
    "* Use plot style 'fivethirtyeight’ \n",
    "* Save the plot as ‘tweets.jpg’\n"
   ]
  },
  {
   "cell_type": "markdown",
   "id": "7893659a",
   "metadata": {},
   "source": []
  },
  {
   "cell_type": "markdown",
   "id": "b895d012",
   "metadata": {},
   "source": [
    "## Exercise 3\n",
    "\n",
    "Create a scatter plot to show the number of users mentioned and the number of likes\n",
    "\n",
    "* Title: ‘#Ukraine: user mentions and likes’\n",
    "* Colour: ‘#930d08’\n",
    "* Use plot style ‘ggplot’ \n",
    "* Opacity: 0.3\n",
    "* Size of the points: 50\n"
   ]
  },
  {
   "cell_type": "code",
   "execution_count": null,
   "id": "332f4393",
   "metadata": {},
   "outputs": [],
   "source": [
    "\n"
   ]
  },
  {
   "cell_type": "markdown",
   "id": "62fcb387",
   "metadata": {},
   "source": [
    "## Exercise 4\n",
    "\n",
    "Try to create the same scatterplot you had created for exercise 3 using Seaborn\n"
   ]
  },
  {
   "cell_type": "code",
   "execution_count": null,
   "id": "6cf69209",
   "metadata": {},
   "outputs": [],
   "source": []
  }
 ],
 "metadata": {
  "kernelspec": {
   "display_name": "Python 3 (ipykernel)",
   "language": "python",
   "name": "python3"
  },
  "language_info": {
   "codemirror_mode": {
    "name": "ipython",
    "version": 3
   },
   "file_extension": ".py",
   "mimetype": "text/x-python",
   "name": "python",
   "nbconvert_exporter": "python",
   "pygments_lexer": "ipython3",
   "version": "3.7.9"
  }
 },
 "nbformat": 4,
 "nbformat_minor": 5
}
